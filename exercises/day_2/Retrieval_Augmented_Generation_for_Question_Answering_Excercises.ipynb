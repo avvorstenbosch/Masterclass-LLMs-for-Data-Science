{
  "cells": [
    {
      "cell_type": "raw",
      "metadata": {},
      "source": [
        "---\n",
        "title: \"Retrieval Augmented Generation for Question Answering\" \n",
        "date: \"11-24-2023\"\n",
        "format: \n",
        "    html:\n",
        "        number-sections: true\n",
        "        page-layout: full\n",
        "        title-block-banner: true\n",
        "        self-contained: true\n",
        "include-in-header:\n",
        "  - text: |\n",
        "      <style>\n",
        "      .cell-output-stdout code {\n",
        "        word-break: break-wor !important;\n",
        "        white-space: pre-wrap !important;\n",
        "      }\n",
        "      </style>\n",
        "execute: \n",
        "  eval: false\n",
        "---"
      ]
    },
    {
      "cell_type": "markdown",
      "metadata": {},
      "source": [
        "This is where we bring it all together.\n",
        "The past days we've learned about:\n",
        "\n",
        "-   Large Language Models\n",
        "-   Their strengths and weaknesses\n",
        "-   Embeddings\n",
        "-   Prompting\n",
        "-   NLP\n",
        "\n",
        "We will bring this all together in this supercharged tutorial/exercise set.\n",
        "\n",
        "# Search + Generation\n",
        "\n",
        "Large Language Models have a vast amount of internal knowledge. This internal knowledge is known as parametric knowledge.\n",
        "This constitutes the general linguistic knowledge these models have, as well as the knowledge they have about the world in general.\n",
        "However, you already know that this parametric knowledge is far from flawless.\n",
        "These models tend to hallucinate more, the more detailed your requests become. Also, these models have no reference of what is true and what is not. \n",
        "Truth and factualness is fundamentally not a core component in the training of these models, they just don't know.   \n",
        "Furthermore, when using thse models you may have questions about:\n",
        "\n",
        "-   Recent events\n",
        "-   Proprietary documents\n",
        "-   Private documents\n",
        "\n",
        "Per definition these were not included in the training data.\n",
        "In this case, we need to feed the model with our own knowledge base such that it may have the ability to answer our questions.\n",
        "This works wonderfully because we can make use of the strong reasoning capabilities these models display on tokens that are directly accesible in memory (their context window). \n",
        "You may liken this to an open book exam: Long term memory is flawed (also in humans) but by providing the model with direct reference texts we can supercharge the question answering capabilities, while allowing ourselves to make the exam (our questions) more specific and more difficult to answer.\n",
        "\n",
        "# Dataset\n",
        "\n",
        "For this assignment we will be working with a Wikipedia dataset that covers the category: [\"Natural Language Processing\"](https://en.wikipedia.org/wiki/Category:Natural_language_processing).\n",
        "From this Wikipedia category a grand total of 964 articles have been extracted and parsed into plain-text.\n",
        "The sections per page were filtered such that we should have retained only the most informative sections per article.\n",
        "This means we filtered out the following sections:\n",
        "\n",
        "-   See also\n",
        "-   References\n",
        "-   External links\n",
        "-   Further reading\n",
        "-   Footnotes\n",
        "-   Bibliography\n",
        "-   Sources\n",
        "-   Citations\n",
        "-   etc.\n",
        "\n",
        "This left us with 4856 usable sections spread across 964 wikipedia pages.\n",
        "These sections were also slightly cleaned by removing whitespaces and Wikipedia specific markup elements from their articles.\n",
        "\n",
        "Each article was processed in so-called chunks of roughly 1600 tokens.\n",
        "These chunks are what will become our searchable and retrievable elements.\n",
        "If possible, chunks are made to be a single section of an article.\n",
        "In some cases, this was not possible and a single section is split into multiple chunks.\n",
        "For each chunk an corresponding embedding is generating using the API.\n",
        "we can compare the embeddings of our chunks, looking for the embedding or the embeddings that most closely resemble our question.\n",
        "Using this we can select the chunks that will be shared with our LLM during inference as the context that might answer our question.\n",
        "Of course, it might also be that there are no chunks that are relevant to our question.\n",
        "\n",
        "This data set can be found under: `./data/WIKIPEDIA_natural_language_processing.csv`.\n",
        "\n",
        "# Setup of the problem\n",
        "\n",
        "Run the code below to get your environment started, make sure you have your API-key inside the `credentials.yml`, or import it in any other way how you see fit. Install the packages below that fail to load."
      ]
    },
    {
      "cell_type": "code",
      "metadata": {},
      "source": [
        "import pandas as pd\n",
        "from IPython.display import display\n",
        "import json\n",
        "from sklearn.metrics import (\n",
        "    confusion_matrix,\n",
        "    ConfusionMatrixDisplay,\n",
        "    accuracy_score,\n",
        "    classification_report,\n",
        ")\n",
        "from adjustText import adjust_text\n",
        "from sklearn.preprocessing import LabelEncoder\n",
        "import matplotlib.pyplot as plt\n",
        "import numpy as np\n",
        "from umap import UMAP\n",
        "import re\n",
        "from fuzzywuzzy import fuzz\n",
        "\n",
        "# Matplotlib\n",
        "plt.style.use(\"seaborn-darkgrid\")\n",
        "\n",
        "# Specify the path to your API-credentials file\n",
        "import yaml\n",
        "from openai import OpenAI\n",
        "\n",
        "file_path = \"../../credentials.yml\"\n",
        "with open(file_path, \"r\") as yaml_file:\n",
        "    credentials = yaml.safe_load(yaml_file)\n",
        "\n",
        "client = OpenAI(\n",
        "    # defaults to os.environ.get(\"OPENAI_API_KEY\")\n",
        "    api_key=credentials[\"OPENAI_API_KEY\"],\n",
        ")"
      ],
      "execution_count": null,
      "outputs": []
    },
    {
      "cell_type": "markdown",
      "metadata": {},
      "source": [
        "One of these functions is called `get_embeddings`, which will retrieve embeddings for you using `text-embedding-ada-002`.\n",
        "This is by far the cheapest model from OpenAI at roughly 3000 pages per dollar. These embeddings are usefull for tasks such as:\n",
        "\n",
        "- Semantic Search \n",
        "- Semantic Clustering \n",
        "- Recommender Systems\n",
        "- Anomaly Detection\n",
        "- Classification (where text strings are classified by their most similar label)\n",
        "\n",
        "The maximum amount of tokens that can be embedded in a single `text-embedding-ada-002` embedding is 8191.\n",
        "\n",
        "Run the get_embedding function on a string of your own choice:"
      ]
    },
    {
      "cell_type": "code",
      "metadata": {},
      "source": [
        "def get_embedding(prompt):\n",
        "    \"\"\"Simple helperfunction for retrieving embeddings as numpy arrays\"\"\"\n",
        "    embedding_response = client.embeddings.create(\n",
        "        input=prompt, model=\"text-embedding-ada-002\"\n",
        "    )\n",
        "    embedding = np.array(embedding_response.data[0].embedding)\n",
        "    return embedding"
      ],
      "execution_count": null,
      "outputs": []
    },
    {
      "cell_type": "code",
      "metadata": {},
      "source": [
        "embedding_response = # get_embedding"
      ],
      "execution_count": null,
      "outputs": []
    },
    {
      "cell_type": "markdown",
      "metadata": {},
      "source": [
        "## A question ChatGPT cannot answer\n",
        "\n",
        "During the Masterclass we talked about the famous Lawsuit where lawyers got into trouble because they used ChatGPT.\n",
        "They cited precedents that were hallucinated by ChatGPT. This event took place in May 2023.\n",
        "ChatGPT should not be aware of these events as they happened past the current cutoff date.\n",
        "Let us give it a try. Write a query asking ChatGPT what it knows about this case.\n",
        "\n",
        "-   Don't make your user prompt too short, as this will be detrimental to the content retrieval later on. Use at least 3 sentences.\n",
        "-   You don't have to supply any specifics, but paint the general picture of the story.\n",
        "-   Ask ChatGPT what ended up being the consequences for the lawyers in this court case.\n",
        "-   This is the user prompt we will use throughout this notebook, you will not change it after this point."
      ]
    },
    {
      "cell_type": "code",
      "metadata": {},
      "source": [
        "system_prompt = \"Your system prompt here\"\n",
        "user_prompt = \"\"\"\n",
        "  Your user prompt here\n",
        "\"\"\"\n",
        "\n",
        "response = client.chat.completions.create(\n",
        "    messages=[\n",
        "        {\n",
        "            \"role\": \"system\",\n",
        "            \"content\": system_prompt(),\n",
        "        },\n",
        "        {\n",
        "            \"role\": \"user\"\n",
        "            \"content\": user_prompt(),\n",
        "        }\n",
        "    ],\n",
        "    model = \"gpt-4-1106-preview\"\n",
        "    response_format = {\"type\": \"json_object\"},\n",
        "    t = 0\n",
        ")"
      ],
      "execution_count": null,
      "outputs": []
    },
    {
      "cell_type": "markdown",
      "metadata": {},
      "source": [
        "As you can see, ChatGPT does not know of what case we speak.\n",
        "We can be happy about 2 things:\n",
        "\n",
        "- It told us that it has no knowledge of these events.\n",
        "- It has no knowledge if this event. For our exercise, that is good news.\n",
        "\n",
        "We are going to prove in the next few sections, that given the right technique, we can get ChatGPT to tells us about this unknown event anyways.\n",
        "\n",
        "## Retrieve the data, what does it look like?\n",
        "\n",
        "Load the data set and explore a little, what does the data look like?"
      ]
    },
    {
      "cell_type": "code",
      "metadata": {},
      "source": [
        "# load the dataset\n",
        "data = pd.read_csv(\"./data/WIKIPEDIA_natural_language_processing.csv\", sep=\",\")\n",
        "\n",
        "# We must parse the dataset into the right format for later.\n",
        "# Right now the embeddings have been loaded as strings,  convert them to vectors straight away.\n",
        "# Don't forget to remove the [ and ] from the string. If you get stuck, consider asking ChatGPT for help with a regex\n",
        "data[\"embedding\"] = YOUR_CODE_HERE\n",
        "\n",
        "# Split the string by commas and convert to numpy arrays\n",
        "data[\"embedding\"] = data[\"embedding\"].apply(\n",
        "    lambda x: np.array(x.split(\", \"), dtype=float)\n",
        ")"
      ],
      "execution_count": null,
      "outputs": []
    },
    {
      "cell_type": "code",
      "metadata": {},
      "source": [
        "#| output: false\n",
        "# This result is not shown in the solutions, simply because the embeddings are too large to show properly. \n",
        "\n",
        "data.sample(2)"
      ],
      "execution_count": null,
      "outputs": []
    },
    {
      "cell_type": "markdown",
      "metadata": {},
      "source": [
        "# Playing with embeddings\n",
        "\n",
        "In order to find the correct contextual information, we will need to embed our `user_prompt`, as it will be the key to our search algorithm.\n",
        "Go ahead and create an embedding of your user prompt, use the `get_embedding` function as defined in `./utils/`.\n",
        "It has already been loaded into your environment so you can use it straight away."
      ]
    },
    {
      "cell_type": "code",
      "metadata": {},
      "source": [
        "prompt_embedding = get_embedding(user_prompt)"
      ],
      "execution_count": null,
      "outputs": []
    },
    {
      "cell_type": "markdown",
      "metadata": {},
      "source": [
        "What are the number of dimensions, and the length, of the embedding?\n",
        "Round the result to 3 decimal places."
      ]
    },
    {
      "cell_type": "code",
      "metadata": {},
      "source": [
        "YOUR_CODE_HERE"
      ],
      "execution_count": null,
      "outputs": []
    },
    {
      "cell_type": "markdown",
      "metadata": {},
      "source": [
        "With such a high number of dimensions, there is a lot of information about prompt that is encoded in this vector.\n",
        "These embeddings have been normalized. This means they have unit length. \n",
        "Because of this, these embeddings only have 1 fundamental quality that is informative to us and that is the pointing direction.\n",
        "This direction contains all the information the model has about the meaning of the embedded text: \n",
        "\n",
        "- Chunks with more similar meaning have more similar embeddings, \n",
        "- Chunks with more different meaning have more different embeddings.\n",
        "\n",
        "Play around with this property. Write the same sentence twice, worded slightly differently, how do these embeddings compare?"
      ]
    },
    {
      "cell_type": "code",
      "metadata": {},
      "source": [
        "YOUR_CODE_HERE"
      ],
      "execution_count": null,
      "outputs": []
    },
    {
      "cell_type": "markdown",
      "metadata": {},
      "source": [
        "Now write a new second sentence with the same topic of the first sentence, but a polarity for example. How does this embedding compare?"
      ]
    },
    {
      "cell_type": "code",
      "metadata": {},
      "source": [
        "YOUR_CODE_HERE"
      ],
      "execution_count": null,
      "outputs": []
    },
    {
      "cell_type": "markdown",
      "metadata": {},
      "source": [
        "Now write a new second sentence that shares no similarities whatsover with the first sentence. How does this embedding compare?"
      ]
    },
    {
      "cell_type": "code",
      "metadata": {},
      "source": [
        "YOUR_CODE_HERE"
      ],
      "execution_count": null,
      "outputs": []
    },
    {
      "cell_type": "markdown",
      "metadata": {},
      "source": [
        "This last one may suprise you. We will follow up on this shortly.\n",
        "\n",
        "## Visualising our embedding space\n",
        "\n",
        "We can make some interesting visualizations from our embeddings.\n",
        "Here we will project our high-dimensional embeddings onto 2 dimensions using the `umap` algorithm.\n",
        "These projections lose a lot of the original information, but allow us to plot our data.\n",
        "`UMAP` is a dimensionality reduction algorithm that works well at preserving both global and local structure in the data. \n",
        "\n",
        "Fill in the code in the cells below to achieve the following:\n",
        "\n",
        "- For each page (article), calculate the average embedding. Don't forget to normalize the length after averaging. \n",
        "- Calculate the reduced embedding form in 2 dimensions.\n",
        "- Sample these reduced form embeddings for N pages.\n",
        "- Plot the results, including page titles.\n",
        "\n",
        "The projection steps have been performed for you in this cells below:"
      ]
    },
    {
      "cell_type": "code",
      "metadata": {},
      "source": [
        "# Get 1 average embedding per page\n",
        "data_average = data.groupby(\"page\").agg(\n",
        "    {\"embedding\": lambda x: np.mean(np.vstack(x), axis=0)}\n",
        ")\n",
        "data_average[\"embedding\"] = data_average[\"embedding\"].apply(\n",
        "    lambda x: x / np.linalg.norm(x, 2)\n",
        ")"
      ],
      "execution_count": null,
      "outputs": []
    },
    {
      "cell_type": "code",
      "metadata": {},
      "source": [
        "# Calculate reduced embeddings\n",
        "embedding_matrix = np.vstack(data_average['embedding'])\n",
        "umap_model = UMAP()\n",
        "umap_embeddings = umap_model.fit_transform(embedding_matrix)\n",
        "\n",
        "# Perform UMAP dimensionality reduction\n",
        "umap_model = UMAP()\n",
        "umap_embeddings = umap_model.fit_transform(embedding_matrix)\n",
        "\n",
        "# Add the UMAP embeddings to the data_average dataframe\n",
        "data_average['x1'] = umap_embeddings[:, 0]\n",
        "data_average['x2'] = umap_embeddings[:, 1]"
      ],
      "execution_count": null,
      "outputs": []
    },
    {
      "cell_type": "code",
      "metadata": {},
      "source": [
        "# Sample the reduced embeddings for N pages\n",
        "np.random.seed(1234)\n",
        "n_pages = 400\n",
        "data_plot = data_average.drop(columns='embedding').sample(n=n_pages).reset_index()"
      ],
      "execution_count": null,
      "outputs": []
    },
    {
      "cell_type": "markdown",
      "metadata": {},
      "source": [
        "Visualize the different Wikipedia articles using the code below. \n",
        "It is best to play with the value for n_pages a bit, as well as the text size.\n",
        "Open the figure in full screen.\n",
        "Explain, what do you see?"
      ]
    },
    {
      "cell_type": "code",
      "metadata": {
        "fig-dpi": 100,
        "fig-width": 18,
        "fig-height": 12
      },
      "source": [
        "# Convert string categories to numeric values\n",
        "categories = pd.Categorical(data_plot['page'])\n",
        "cmap = plt.cm.get_cmap('viridis', len(categories.categories))  # Get a colormap with as many colors as categories\n",
        "color_values = cmap(categories.codes)  # Map category codes to colors\n",
        "\n",
        "# Create the plot\n",
        "fig, ax = plt.subplots(figsize=(18, 12))\n",
        "\n",
        "# Scatter plot with color mapping\n",
        "scatter = ax.scatter(data_plot['x1'], data_plot['x2'], alpha=0.5, s=15, c=color_values)\n",
        "\n",
        "\n",
        "# Adding text labels\n",
        "texts = []\n",
        "for x, y, label in zip(data_plot['x1'], data_plot['x2'], data_plot['page']):\n",
        "    texts.append(ax.text(x, y, label, size=5))\n",
        "\n",
        "# Removing axis titles\n",
        "ax.set_xlabel('')\n",
        "ax.set_ylabel('')\n",
        "\n",
        "# Adjusting text to prevent overlap\n",
        "# Adjust text has difficulty converging for this plot, optional \n",
        "#adjust_text(texts, arrowprops=dict(arrowstyle='-', color='gray'), precision =0.4, lim=1)\n",
        "\n",
        "plt.show()"
      ],
      "execution_count": null,
      "outputs": []
    },
    {
      "cell_type": "markdown",
      "metadata": {},
      "source": [
        "## Performing similarity search using our embeddings - euclidean distance\n",
        "\n",
        "Now we want to start comparing our embeddings to one another.\n",
        "One might think of just calculating a regular distance metric like euclidean distance for our embeddings, after all our vectors represent a single point in space.\n",
        "So we could just look to see which ones are the closest together.\n",
        "However, in practice that will not work.\n",
        "*Can you think of a reason why not?*\n",
        "\n",
        "## Performing similarity search using our embeddings - cosine distance\n",
        "\n",
        "The easiest way to to compare our embeddings is through the metric called `cosine similarity`.\n",
        "Because our vectors are already normalised, we can use take the dot-product (inner product) between 2 vectors to directly calculate the angle between them, this is the cosine distance.\n",
        "You can calculate the cosine similarity by using `vector_1 @ vector_2`.\n",
        "\n",
        "Calculate the cosine similarity between our prompt_embedding and all embeddings in the dataset, store this value in the column `similarity score`."
      ]
    },
    {
      "cell_type": "code",
      "metadata": {},
      "source": [
        "# Apply the function row-wise\n",
        "data['similarity_score'] = YOUR_CODE_HERE\n",
        "\n",
        "# Sort the DataFrame by similarity_score in descending order\n",
        "data_similarity = data.sort_values(by='similarity_score', ascending=False)"
      ],
      "execution_count": null,
      "outputs": []
    },
    {
      "cell_type": "markdown",
      "metadata": {},
      "source": [
        "Plot the distribution of similarity scores:"
      ]
    },
    {
      "cell_type": "code",
      "metadata": {
        "fig-dpi": 100,
        "fig-width": 18,
        "fig-height": 12
      },
      "source": [
        "# Create the histogram\n",
        "bins = np.linspace(-1, 1, 101)\n",
        "plt.figure(figsize=(10, 6))\n",
        "plt.hist(data_similarity['similarity_score'], bins=bins, alpha=0.8, edgecolor='black')\n",
        "plt.xlim(-1, 1)\n",
        "plt.title(\"Distribution cosine similarity user prompt and Wikipedia embeddings\")\n",
        "plt.xlabel('Similarity Score')\n",
        "plt.ylabel('Frequency')\n",
        "\n",
        "# Show the plot\n",
        "plt.show()"
      ],
      "execution_count": null,
      "outputs": []
    },
    {
      "cell_type": "markdown",
      "metadata": {},
      "source": [
        "It is somewhat suprising what you see in this plot. You'd expect there to be a very large range from -1 to 1, but instead the values are concentrated around 0.7.\n",
        "\n",
        "To see what is going on, we will make another figure. \n",
        "Make another plot showing the distribution of cosine similarities with respect to the user prompt, together with the following 3 input prompts:\n",
        "\n",
        "-   label: \"Deltaplan\" - prompt:\"The estuaries of the rivers Rhine, Meuse and Schelde have been subject to flooding over the centuries. After building the Afsluitdijk (1927 – 1932), the Dutch started studying the damming of the Rhine-Meuse Delta. Plans were developed to shorten the coastline and turn the delta into a group of freshwater coastal lakes. By shortening the coastline, fewer dikes would have to be reinforced. Due to indecision and the Second World War, little action was taken. In 1950 two small estuary mouths, the Brielse Gat near Brielle and the Botlek near Vlaardingen were dammed. After the North Sea flood of 1953, a Delta Works Commission was installed to research the causes and develop measures to prevent such disasters in future. They revised some of the old plans and came up with the 'Deltaplan'.\"\n",
        "-   label: \"Baking\" - prompt:\"What is the best recipe for baking a carrot cake? I prefer them with not too many spices. The icing should be made with cream cheese of course\"\n",
        "-   label: \"Astronomy\" - prompt:\"A few years ago I remember seeing newspaper articles about astronomers imaging the black hole in our own milky way, how did they achieve this?\"\n",
        "\n",
        "Use these labels to add fill color to your histogram:"
      ]
    },
    {
      "cell_type": "code",
      "metadata": {
        "fig-dpi": 100,
        "fig-width": 18,
        "fig-height": 12
      },
      "source": [
        "results = []\n",
        "prompts = [\n",
        "  \"The estuaries of the rivers Rhine, Meuse and Schelde have been subject to flooding over the centuries. After building the Afsluitdijk (1927 – 1932), the Dutch started studying the damming of the Rhine-Meuse Delta. Plans were developed to shorten the coastline and turn the delta into a group of freshwater coastal lakes. By shortening the coastline, fewer dikes would have to be reinforced. Due to indecision and the Second World War, little action was taken. In 1950 two small estuary mouths, the Brielse Gat near Brielle and the Botlek near Vlaardingen were dammed. After the North Sea flood of 1953, a Delta Works Commission was installed to research the causes and develop measures to prevent such disasters in future. They revised some of the old plans and came up with the 'Deltaplan'.\",\n",
        "  \"What is the best recipe for baking a carrot cake? I prefer them with not too many spices. The icing should be made with cream cheese of course\",\n",
        "  \"A few years ago I remember seeing newspaper articles about astronomers imaging the black hole in our own milky way, how did they achieve this?\"\n",
        "]\n",
        "\n",
        "labels = [\n",
        "  \"Deltaplan\",\n",
        "  \"Baking\",\n",
        "  \"Astronomy\"\n",
        "]\n",
        "\n",
        "# Add the embedding matrix to the results lists\n",
        "for i, prompt in enumerate(prompts):\n",
        "    embedding_tmp = get_embedding(prompt)\n",
        "    data['similarity_score'] = data.apply(calculate_similarity, axis=1)\n",
        "    data_similarity_tmp = data.sort_values(by='similarity_score', ascending=False)\n",
        "    data_similarity_tmp['label'] = labels[i]\n",
        "    results.append(data_similarity_tmp)\n",
        "\n",
        "data_similarity[\"label\"] = \"user_prompt\"\n",
        "results.append(data_similarity)\n",
        "\n",
        "# Combine the dataframes with pd.concat\n",
        "result = pd.concat(results, ignore_index=True)\n",
        "\n",
        "# plot the histogram of the 4 prompts at the same time\n",
        "YOUR_CODE_HERE"
      ],
      "execution_count": null,
      "outputs": []
    },
    {
      "cell_type": "markdown",
      "metadata": {},
      "source": [
        "What do you see?\n",
        "\n",
        "You can see the following:\n",
        "\n",
        "- The embeddings of `text-embedding-ada-002` have a very small dynamic range. \n",
        "\n",
        "- This in itself is not a big issue. We still see that the prompt on AI got the highest similarity with the dataset, while the prompt on baking got the lowest similarity with the dataset. \n",
        "\n",
        "- This does mean that in practice we cannot set a reasonable cut-off for cosine similarity as one can do with BERT-embeddings. \n",
        "\n",
        "## Collect best matches\n",
        "\n",
        "Retrieve the 3 values with the highest similarity_score with our original user prompt, and store them in a table called `context`."
      ]
    },
    {
      "cell_type": "code",
      "metadata": {},
      "source": [
        "YOUR_CODE_HERE"
      ],
      "execution_count": null,
      "outputs": []
    },
    {
      "cell_type": "markdown",
      "metadata": {},
      "source": [
        "# Retrieval Augmented Generation\n",
        "\n",
        "Now we have all the steps to perform retrieval augmented generation.\n",
        "Let's get going!\n",
        "\n",
        "## First try\n",
        "\n",
        "We've kept the user_prompt from the beginning, which we will not touch.\n",
        "Instead, change the system prompt to achieve the following: \n",
        "\n",
        "- The 3 best matching context chunks from data_similarity should be passed to the model as context.\n",
        "- It should only answer, if the context provides an answer.\n",
        "- The answer should only be based on the context, nothing else.\n",
        "- The answer should be as detailed as possible."
      ]
    },
    {
      "cell_type": "code",
      "metadata": {},
      "source": [
        "system_prompt = lambda: \"\"\"\n",
        "  Your system prompt here \n",
        "\"\"\"\n",
        "\n",
        "response = client.chat.completions.create(\n",
        "    messages=[\n",
        "        {\n",
        "            \"role\": \"system\",\n",
        "            \"content\": system_prompt(),\n",
        "        },\n",
        "        {\n",
        "            \"role\": \"user\"\n",
        "            \"content\": user_prompt,\n",
        "        }\n",
        "    ],\n",
        "    model = \"gpt-4-1106-preview\",\n",
        "    t = 0\n",
        ")"
      ],
      "execution_count": null,
      "outputs": []
    },
    {
      "cell_type": "markdown",
      "metadata": {},
      "source": [
        "Yeah!\n",
        "Now we are getting answers.\n",
        "However, we are not quite there yet.\n",
        "Now we have an answer, but how can we know it is true?\n",
        "It could still be making this up.\n",
        "For a single example we can of course fact-check the sources ourselves.\n",
        "But automation is the name of the game: we need to find a better solution!\n",
        "\n",
        "## Making responses (more) verifiable \n",
        "\n",
        "Once again, we are going to pass text content to our system prompt.\n",
        "This time, it will be very important that the model only answers using direct quotes from the context-chunks:\n",
        "\n",
        "-   It should only answer in the format: (\\`Wikipedia article: name\\`) \"quoted text\"\n",
        "\n",
        "-   It should only answer, if the context provides an answer.\n",
        "\n",
        "-   Quotes should only be direct, no paraphrasing.\n",
        "\n",
        "-   It is not allowed to use ellipses to shorten a quote.\n",
        "\n",
        "-   The answer should be as detailed as possible."
      ]
    },
    {
      "cell_type": "code",
      "metadata": {},
      "source": [
        "system_prompt = lambda: \"\"\"\n",
        "  Your system prompt here \n",
        "\"\"\"\n",
        "\n",
        "response = client.chat.completions.create(\n",
        "    messages=[\n",
        "        {\n",
        "            \"role\": \"system\",\n",
        "            \"content\": system_prompt(),\n",
        "        },\n",
        "        {\n",
        "            \"role\": \"user\"\n",
        "            \"content\": user_prompt,\n",
        "        }\n",
        "    ],\n",
        "    model = \"gpt-4-1106-preview\",\n",
        "    t = 0\n",
        ")"
      ],
      "execution_count": null,
      "outputs": []
    },
    {
      "cell_type": "markdown",
      "metadata": {},
      "source": [
        "Hooray!\n",
        "You can see that the model is mostly doing what we want.\n",
        "It is quoting directly.\n",
        "It is giving some extra reasoning around these quotes, but that is not an issue.\n",
        "\n",
        "## Is our LLM quoting correctly?\n",
        "\n",
        "Now we want to verify the information provided by our LLM.\n",
        "We can use simple `regular expressions` to extract the sources from the response, as well as the quotes.\n",
        "We can check if these quotes are indeed present in the context we provided."
      ]
    },
    {
      "cell_type": "code",
      "metadata": {},
      "source": [
        "answer = response.choices[0].message.content\n",
        "\n",
        "# Regular Expression to capture the article name as it is in your context-table\n",
        "regex_articles = r\"Wikipedia article: ([^`]+)\"\n",
        "\n",
        "# Using re.findall to extract all matches\n",
        "article_names = re.findall(regex_articles, answer)"
      ],
      "execution_count": null,
      "outputs": []
    },
    {
      "cell_type": "code",
      "metadata": {},
      "source": [
        "# Regular Expression to capture the content of the quote.\n",
        "regex_quotes = YOUR_CODE_HERE\n",
        "\n",
        "# Using str_match_all to extract all matches\n",
        "quotes = re.findall(regex_articles, answer)"
      ],
      "execution_count": null,
      "outputs": []
    },
    {
      "cell_type": "markdown",
      "metadata": {},
      "source": [
        "Now the question is, how do we check if these quotes are present in the text.\n",
        "We cannot use: `A %in% B` syntax.\n",
        "If our model changes a single character; it won't work to do literal matching.\n",
        "Instead, we will use a clever solution called Levenshtein distance.\n",
        "Please look up what Levenshtein distance is, what does it calculate?\n",
        "\n",
        "It calculates the minimal number of edits (insertions, deletions, or substitions) that are needed to go from string A to string B.\n",
        "\n",
        "We will make use of the function `fuzz.partial_ratio` from the fuzzywuzzy library.\n",
        "`partial_ratio` will look for the best location to match susbtring_x to a piece of string y, and then calculate the Levenshtein distance, and normalizes it by the length of the substring. \n",
        "For each quote found in the model answer above: \n",
        "\n",
        "- `incorrectness_quote`: Calculate the normalized Levensthein distance.\n",
        "- Make sure that you don't take into account the casing of the letters (upper or lower).\n",
        "- `correct_quote`: Check if the incorrectness value stays below 5%.\n",
        "\n",
        "If this is the case, correct_quote should read `TRUE` - It can happen that the same article (wikipedia page) is passed multiple times as context, take this into account in the function below in the group_by."
      ]
    },
    {
      "cell_type": "code",
      "metadata": {},
      "source": [
        "your_code_here"
      ],
      "execution_count": null,
      "outputs": []
    },
    {
      "cell_type": "markdown",
      "metadata": {},
      "source": [
        "## Bringing it together\n",
        "\n",
        "Now that we have a way of checking whether the quotes are not hallucinations, we can adjust our prompting function to do these calculations for us: \n",
        "\n",
        "- Fill out all the helper functions \n",
        "- Then fill in the main `RAG_completion` function:"
      ]
    },
    {
      "cell_type": "code",
      "metadata": {},
      "source": [
        "# A helper function to isolate article sources from the model response\n",
        "def get_sources(answer):\n",
        "  YOUR_CODE_HERE\n",
        "\n",
        "\n",
        "# A helper function to isolate quotes from the model response\n",
        "def get_quotes(answer):\n",
        "  YOUR_CODE_HERE\n",
        "\n",
        "\n",
        "# A helper function to retrieve the relevant context\n",
        "def get_context(prompt_embedding):\n",
        "  YOUR_CODE_HERE\n",
        "\n",
        "\n",
        "# A helper function to check if the quotes are reasonable given the context\n",
        "def check_quotes(context, sources, quotes):\n",
        "  YOUR_CODE_HERE"
      ],
      "execution_count": null,
      "outputs": []
    },
    {
      "cell_type": "code",
      "metadata": {},
      "source": [
        "# Our RAG_completion main function\n",
        "def RAG_completion(system = system_prompt,\n",
        "                          prompt = user_prompt,\n",
        "                          t = 1,\n",
        "                          n = 1,\n",
        "                          max_tokens = NULL,\n",
        "                          model = \"gpt-4-1106-preview\",\n",
        "                          format = NULL):\n",
        "  #' Flexible API Request Function with Integrated Glue Functionality\n",
        "  #'\n",
        "  #' This function sends a request to a specified API, integrating the 'glue' function to allow\n",
        "  #' dynamic insertion of context documents into the user_prompt.\n",
        "  #'\n",
        "  #' @param system the system prompt provided to the model The URL of the API to which the request is being sent, defaults to system_prompt object\n",
        "  #' @param prompt the user prompt provided to the model, defaults to user_prompt object\n",
        "  #' @param t the temperature setting for the mode, defaults to 1\n",
        "  #' @param n the number of completions to generate, defaults to 1\n",
        "  #' @param max_tokens the maximum model response length, defaults to 500 tokens\n",
        "  #'\n",
        "  #' @return\n",
        "  #' The response object from the chat_completion api\n",
        "\n",
        "  # Find the appropriate context for our quote:\n",
        "  prompt_embedding = get_embedding(prompt)\n",
        "\n",
        "  # Retrieve the 3 most relevant context chunks in a df called context\n",
        "  context = get_context(prompt_embedding)\n",
        "\n",
        "  # Generate our model response\n",
        "  response = client.chat.completions.create(\n",
        "      messages=[\n",
        "          {\n",
        "              \"role\": \"system\",\n",
        "              \"content\": system_prompt(),\n",
        "          },\n",
        "          {\n",
        "              \"role\": \"user\"\n",
        "              \"content\": user_prompt,\n",
        "          }\n",
        "      ],\n",
        "      model = \"gpt-4-1106-preview\",\n",
        "      t = 0\n",
        "      response_format = format, # Set the response format for JSON mode\n",
        "      temperature = t, # The randomness setting of the model: 0 is deterministic, 2 is most random\n",
        "      n = n, # How many completions do we want the model to generate\n",
        "      max_tokens = max_tokens, # How many tokens is the model allowed to use,\n",
        "  )\n",
        "\n",
        "  # Print the model response(s)\n",
        "  for choice_num in range(len(response.choices[0])):\n",
        "    # Extract the model answer\n",
        "    answer = response$choices[[choice_num, \"message.content\"]]\n",
        "\n",
        "    # Pretty print the answer \n",
        "    print(answer)\n",
        "\n",
        "    # extract the sources and quotes\n",
        "    sources = get_sources(answer)\n",
        "    quotes = get_quotes(answer)\n",
        "\n",
        "    # Verify the model quotes. Raise a warning if a quote does not reach the standard\n",
        "    check_quotes(context, sources, quotes)\n",
        "\n",
        "\n",
        "  return(response)"
      ],
      "execution_count": null,
      "outputs": []
    },
    {
      "cell_type": "code",
      "metadata": {},
      "source": [
        "response = RAG_completion(system_prompt, user_prompt, t = 0)"
      ],
      "execution_count": null,
      "outputs": []
    },
    {
      "cell_type": "markdown",
      "metadata": {},
      "source": [
        "## Congratulations, try it out for other questions!"
      ]
    },
    {
      "cell_type": "code",
      "metadata": {},
      "source": [
        "user_prompt = \"\"\"\n",
        "Who is Andrew NG, and why do I see so many of his Deep Learning content videos online?\n",
        "\"\"\"\n",
        "\n",
        "response = RAG_completion(system_prompt, user_prompt, t = 0)"
      ],
      "execution_count": null,
      "outputs": []
    },
    {
      "cell_type": "markdown",
      "metadata": {},
      "source": [
        "## (Optional) It's LLMs all the way down.\n",
        "\n",
        "What if you pass the output answer from `RAG_completion` to a new chat, along with the context.\n",
        "Can you get another chat with the LLM to verify whether the answer is correct given the content and the quote checks?\n",
        "Use `gpt-3.5-turbo-1106` before returning the answer to the user, to perform a check whether the answer can be verified \n",
        "based on the context. Include the quote-correctness in the new user prompt. "
      ]
    }
  ],
  "metadata": {
    "kernelspec": {
      "name": "openai",
      "language": "python",
      "display_name": "openai-chatgpt"
    }
  },
  "nbformat": 4,
  "nbformat_minor": 4
}